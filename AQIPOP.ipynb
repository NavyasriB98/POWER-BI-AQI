{
 "cells": [
  {
   "cell_type": "code",
   "execution_count": 1,
   "id": "aa56a510-edec-4fd5-89f0-97c7f20fb3a5",
   "metadata": {},
   "outputs": [],
   "source": [
    "import pandas as pd\n",
    "import numpy as np"
   ]
  },
  {
   "cell_type": "code",
   "execution_count": 2,
   "id": "d65d8e8f-27aa-49e1-ace4-54dd8402031b",
   "metadata": {},
   "outputs": [],
   "source": [
    "df = pd.read_csv(\"E:\\\\codebasic\\\\working\\\\population_projection.csv\")"
   ]
  },
  {
   "cell_type": "code",
   "execution_count": 3,
   "id": "2d083bfd-b770-4d3f-b787-ab3de4e9a5a2",
   "metadata": {},
   "outputs": [
    {
     "data": {
      "text/html": [
       "<div>\n",
       "<style scoped>\n",
       "    .dataframe tbody tr th:only-of-type {\n",
       "        vertical-align: middle;\n",
       "    }\n",
       "\n",
       "    .dataframe tbody tr th {\n",
       "        vertical-align: top;\n",
       "    }\n",
       "\n",
       "    .dataframe thead th {\n",
       "        text-align: right;\n",
       "    }\n",
       "</style>\n",
       "<table border=\"1\" class=\"dataframe\">\n",
       "  <thead>\n",
       "    <tr style=\"text-align: right;\">\n",
       "      <th></th>\n",
       "      <th>year</th>\n",
       "      <th>month</th>\n",
       "      <th>state</th>\n",
       "      <th>gender</th>\n",
       "      <th>value</th>\n",
       "      <th>unit</th>\n",
       "      <th>note</th>\n",
       "    </tr>\n",
       "  </thead>\n",
       "  <tbody>\n",
       "    <tr>\n",
       "      <th>0</th>\n",
       "      <td>2036</td>\n",
       "      <td>October</td>\n",
       "      <td>West Bengal</td>\n",
       "      <td>Total</td>\n",
       "      <td>43964</td>\n",
       "      <td>value in Thousands</td>\n",
       "      <td>NaN</td>\n",
       "    </tr>\n",
       "    <tr>\n",
       "      <th>1</th>\n",
       "      <td>2036</td>\n",
       "      <td>October</td>\n",
       "      <td>West Bengal</td>\n",
       "      <td>Male</td>\n",
       "      <td>22615</td>\n",
       "      <td>value in Thousands</td>\n",
       "      <td>NaN</td>\n",
       "    </tr>\n",
       "    <tr>\n",
       "      <th>2</th>\n",
       "      <td>2036</td>\n",
       "      <td>October</td>\n",
       "      <td>West Bengal</td>\n",
       "      <td>Female</td>\n",
       "      <td>21349</td>\n",
       "      <td>value in Thousands</td>\n",
       "      <td>NaN</td>\n",
       "    </tr>\n",
       "    <tr>\n",
       "      <th>3</th>\n",
       "      <td>2036</td>\n",
       "      <td>October</td>\n",
       "      <td>Uttarakhand</td>\n",
       "      <td>Total</td>\n",
       "      <td>5506</td>\n",
       "      <td>value in Thousands</td>\n",
       "      <td>NaN</td>\n",
       "    </tr>\n",
       "    <tr>\n",
       "      <th>4</th>\n",
       "      <td>2036</td>\n",
       "      <td>October</td>\n",
       "      <td>Uttarakhand</td>\n",
       "      <td>Male</td>\n",
       "      <td>2922</td>\n",
       "      <td>value in Thousands</td>\n",
       "      <td>NaN</td>\n",
       "    </tr>\n",
       "    <tr>\n",
       "      <th>...</th>\n",
       "      <td>...</td>\n",
       "      <td>...</td>\n",
       "      <td>...</td>\n",
       "      <td>...</td>\n",
       "      <td>...</td>\n",
       "      <td>...</td>\n",
       "      <td>...</td>\n",
       "    </tr>\n",
       "    <tr>\n",
       "      <th>8887</th>\n",
       "      <td>2011</td>\n",
       "      <td>July</td>\n",
       "      <td>Andaman and Nicobar Islands</td>\n",
       "      <td>Male</td>\n",
       "      <td>77</td>\n",
       "      <td>value in Thousands</td>\n",
       "      <td>NaN</td>\n",
       "    </tr>\n",
       "    <tr>\n",
       "      <th>8888</th>\n",
       "      <td>2011</td>\n",
       "      <td>July</td>\n",
       "      <td>Andaman and Nicobar Islands</td>\n",
       "      <td>Female</td>\n",
       "      <td>67</td>\n",
       "      <td>value in Thousands</td>\n",
       "      <td>NaN</td>\n",
       "    </tr>\n",
       "    <tr>\n",
       "      <th>8889</th>\n",
       "      <td>2011</td>\n",
       "      <td>July</td>\n",
       "      <td>All India</td>\n",
       "      <td>Total</td>\n",
       "      <td>380145</td>\n",
       "      <td>value in Thousands</td>\n",
       "      <td>NaN</td>\n",
       "    </tr>\n",
       "    <tr>\n",
       "      <th>8890</th>\n",
       "      <td>2011</td>\n",
       "      <td>July</td>\n",
       "      <td>All India</td>\n",
       "      <td>Male</td>\n",
       "      <td>197066</td>\n",
       "      <td>value in Thousands</td>\n",
       "      <td>NaN</td>\n",
       "    </tr>\n",
       "    <tr>\n",
       "      <th>8891</th>\n",
       "      <td>2011</td>\n",
       "      <td>July</td>\n",
       "      <td>All India</td>\n",
       "      <td>Female</td>\n",
       "      <td>183079</td>\n",
       "      <td>value in Thousands</td>\n",
       "      <td>NaN</td>\n",
       "    </tr>\n",
       "  </tbody>\n",
       "</table>\n",
       "<p>8892 rows × 7 columns</p>\n",
       "</div>"
      ],
      "text/plain": [
       "      year    month                        state  gender   value  \\\n",
       "0     2036  October                  West Bengal   Total   43964   \n",
       "1     2036  October                  West Bengal    Male   22615   \n",
       "2     2036  October                  West Bengal  Female   21349   \n",
       "3     2036  October                  Uttarakhand   Total    5506   \n",
       "4     2036  October                  Uttarakhand    Male    2922   \n",
       "...    ...      ...                          ...     ...     ...   \n",
       "8887  2011     July  Andaman and Nicobar Islands    Male      77   \n",
       "8888  2011     July  Andaman and Nicobar Islands  Female      67   \n",
       "8889  2011     July                    All India   Total  380145   \n",
       "8890  2011     July                    All India    Male  197066   \n",
       "8891  2011     July                    All India  Female  183079   \n",
       "\n",
       "                    unit  note  \n",
       "0     value in Thousands   NaN  \n",
       "1     value in Thousands   NaN  \n",
       "2     value in Thousands   NaN  \n",
       "3     value in Thousands   NaN  \n",
       "4     value in Thousands   NaN  \n",
       "...                  ...   ...  \n",
       "8887  value in Thousands   NaN  \n",
       "8888  value in Thousands   NaN  \n",
       "8889  value in Thousands   NaN  \n",
       "8890  value in Thousands   NaN  \n",
       "8891  value in Thousands   NaN  \n",
       "\n",
       "[8892 rows x 7 columns]"
      ]
     },
     "execution_count": 3,
     "metadata": {},
     "output_type": "execute_result"
    }
   ],
   "source": [
    "df"
   ]
  },
  {
   "cell_type": "code",
   "execution_count": 4,
   "id": "5e8536fc-24c5-420f-bb35-f37f49e3899a",
   "metadata": {},
   "outputs": [
    {
     "name": "stdout",
     "output_type": "stream",
     "text": [
      "<class 'pandas.core.frame.DataFrame'>\n",
      "RangeIndex: 8892 entries, 0 to 8891\n",
      "Data columns (total 7 columns):\n",
      " #   Column  Non-Null Count  Dtype  \n",
      "---  ------  --------------  -----  \n",
      " 0   year    8892 non-null   int64  \n",
      " 1   month   8892 non-null   object \n",
      " 2   state   8892 non-null   object \n",
      " 3   gender  8892 non-null   object \n",
      " 4   value   8892 non-null   int64  \n",
      " 5   unit    8892 non-null   object \n",
      " 6   note    0 non-null      float64\n",
      "dtypes: float64(1), int64(2), object(4)\n",
      "memory usage: 486.4+ KB\n"
     ]
    }
   ],
   "source": [
    "df.info()"
   ]
  },
  {
   "cell_type": "code",
   "execution_count": 5,
   "id": "407ddc90-bb37-4fea-8914-024e4ca053f5",
   "metadata": {},
   "outputs": [],
   "source": [
    "#lets remove note column axis=1 cause we are operating on column \n",
    "df= df.drop(['note'], axis = 1)"
   ]
  },
  {
   "cell_type": "code",
   "execution_count": 6,
   "id": "53a5ca6b-d33c-4134-baa8-81cc6f373302",
   "metadata": {},
   "outputs": [
    {
     "name": "stdout",
     "output_type": "stream",
     "text": [
      "<class 'pandas.core.frame.DataFrame'>\n",
      "RangeIndex: 8892 entries, 0 to 8891\n",
      "Data columns (total 6 columns):\n",
      " #   Column  Non-Null Count  Dtype \n",
      "---  ------  --------------  ----- \n",
      " 0   year    8892 non-null   int64 \n",
      " 1   month   8892 non-null   object\n",
      " 2   state   8892 non-null   object\n",
      " 3   gender  8892 non-null   object\n",
      " 4   value   8892 non-null   int64 \n",
      " 5   unit    8892 non-null   object\n",
      "dtypes: int64(2), object(4)\n",
      "memory usage: 416.9+ KB\n"
     ]
    }
   ],
   "source": [
    "df.info()"
   ]
  },
  {
   "cell_type": "code",
   "execution_count": 7,
   "id": "4bcb8752-785c-444f-8c21-f09b5af1267d",
   "metadata": {},
   "outputs": [],
   "source": [
    "df.to_csv('population.csv')"
   ]
  },
  {
   "cell_type": "code",
   "execution_count": null,
   "id": "d229e012-8bff-4133-8ab6-0241fbefe9cd",
   "metadata": {},
   "outputs": [],
   "source": []
  }
 ],
 "metadata": {
  "kernelspec": {
   "display_name": "Python 3 (ipykernel)",
   "language": "python",
   "name": "python3"
  },
  "language_info": {
   "codemirror_mode": {
    "name": "ipython",
    "version": 3
   },
   "file_extension": ".py",
   "mimetype": "text/x-python",
   "name": "python",
   "nbconvert_exporter": "python",
   "pygments_lexer": "ipython3",
   "version": "3.12.7"
  }
 },
 "nbformat": 4,
 "nbformat_minor": 5
}
